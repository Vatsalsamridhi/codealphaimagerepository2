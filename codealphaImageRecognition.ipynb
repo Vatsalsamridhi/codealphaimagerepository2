{
  "cells": [
    {
      "cell_type": "code",
      "execution_count": null,
      "metadata": {
        "id": "lnYfcoIndLCw"
      },
      "outputs": [],
      "source": []
    },
    {
      "cell_type": "code",
      "execution_count": null,
      "metadata": {
        "colab": {
          "base_uri": "https://localhost:8080/"
        },
        "id": "SFfhbfYAdNQb",
        "outputId": "3b55b05d-ab23-4a4c-8d06-7b942c9f86f3"
      },
      "outputs": [
        {
          "output_type": "stream",
          "name": "stdout",
          "text": [
            "Downloading data from https://www.cs.toronto.edu/~kriz/cifar-10-python.tar.gz\n",
            "170498071/170498071 [==============================] - 2s 0us/step\n",
            "Epoch 1/10\n",
            "1563/1563 [==============================] - 43s 27ms/step - loss: 1.4877 - accuracy: 0.4659 - val_loss: 1.2847 - val_accuracy: 0.5387\n",
            "Epoch 2/10\n",
            "1563/1563 [==============================] - 40s 25ms/step - loss: 1.2043 - accuracy: 0.5784 - val_loss: 1.1715 - val_accuracy: 0.5870\n",
            "Epoch 3/10\n",
            "1563/1563 [==============================] - 40s 25ms/step - loss: 1.1018 - accuracy: 0.6157 - val_loss: 1.1213 - val_accuracy: 0.6127\n",
            "Epoch 4/10\n",
            "1563/1563 [==============================] - 38s 24ms/step - loss: 1.0319 - accuracy: 0.6403 - val_loss: 1.0788 - val_accuracy: 0.6233\n",
            "Epoch 5/10\n",
            " 616/1563 [==========>...................] - ETA: 23s - loss: 0.9665 - accuracy: 0.6677"
          ]
        }
      ],
      "source": [
        "import tensorflow as tf\n",
        "from tensorflow.keras.datasets import cifar10\n",
        "from tensorflow.keras.utils import to_categorical\n",
        "(x_train,y_train),(x_test,y_test)=cifar10.load_data()\n",
        "x_train=x_train.astype('float32')/255.0\n",
        "x_test=x_test.astype('float32')/255.0\n",
        "y_train=to_categorical(y_train,10)\n",
        "y_test=to_categorical(y_test,10)\n",
        "\n",
        "from tensorflow.keras.models import Sequential\n",
        "from tensorflow.keras.layers import Conv2D,MaxPooling2D,Flatten,Dense\n",
        "model = Sequential([Conv2D(32,(3,3),activation='relu',input_shape=(32,32,3)),MaxPooling2D((2,2)),Flatten(),Dense(64,activation='relu'),Dense(10,activation='softmax')])\n",
        "model.compile(optimizer='adam',loss='categorical_crossentropy',metrics=['accuracy'])\n",
        "model.fit(x_train,y_train,epochs=10,batch_size=32,validation_data=(x_test,y_test))\n",
        "model.evaluate(x_test,y_test)\n",
        "\n",
        "from tensorflow.keras.preprocessing.image import ImageDataGenerator\n",
        "\n",
        "datagen = ImageDataGenerator(rotation_range=20,width_shift_range=0.2,height_shift_range=0.2,horizontal_flip=True)\n",
        "model.fit(datagen.flow(x_train,y_train,batch_size=32),validation_data=(x_test,y_test),epochs=10)\n"
      ]
    },
    {
      "cell_type": "code",
      "execution_count": null,
      "metadata": {
        "id": "mG06H4zCm_hc"
      },
      "outputs": [],
      "source": []
    }
  ],
  "metadata": {
    "colab": {
      "provenance": [],
      "name": "codealphaImageRecognition.ipynb"
    },
    "kernelspec": {
      "display_name": "Python 3",
      "name": "python3"
    },
    "language_info": {
      "name": "python"
    }
  },
  "nbformat": 4,
  "nbformat_minor": 0
}